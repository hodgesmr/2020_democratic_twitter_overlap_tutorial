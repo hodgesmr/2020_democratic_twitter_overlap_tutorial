{
 "cells": [
  {
   "cell_type": "markdown",
   "metadata": {},
   "source": [
    "# 2020 Democratic Twitter Overlap Tutorial\n",
    "\n",
    "#### By Matt Hodges\n",
    "\n",
    "This notebook demostrates how you can use anonymized Twitter follower data from [FiveThirtyEight](https://github.com/fivethirtyeight/twitter-overlap) and Python 3 to create Venn diagrams of the 2020 Democratic candidates' followers. In this exercise, we'll visualize the followers of [Joe Biden](https://twitter.com/joebiden), [Bernie Sanders](https://twitter.com/berniesanders), and [Elizabeth Warren](https://twitter.com/ewarren)."
   ]
  },
  {
   "cell_type": "markdown",
   "metadata": {},
   "source": [
    "## Setup\n",
    "\n",
    "### Import packages\n",
    "\n",
    "Pull in the necessary packages. For this tutorial, we're using [matplotlib](https://matplotlib.org/) and [matplotlib-venn](https://pypi.org/project/matplotlib-venn/) for rendering the visualization, and [pandas](https://pandas.pydata.org/) for data analysis."
   ]
  },
  {
   "cell_type": "code",
   "execution_count": 11,
   "metadata": {},
   "outputs": [],
   "source": [
    "import matplotlib.pyplot as plt\n",
    "import pandas as pd\n",
    "from matplotlib_venn import venn3"
   ]
  },
  {
   "cell_type": "markdown",
   "metadata": {},
   "source": [
    "## Fetch remote data\n",
    "\n",
    "[FiveThirtyEight](https://github.com/fivethirtyeight/twitter-overlap) has published an anonymized dataset of the nearly 20 million Twitter users who follow 2020 Democratic presidential candidates. This data is presented as newline-delimited signed integers of twitter follower ids. We'll fetch the data for Joe Biden, Bernie Sanders, and Elizabeth Warren, loading the follower ids into pandas DataFrames. Since the data is presented as simple text files without headers, we'll label the column as `account_id`. The data for Bernie Sanders is broken up into two files, so we'll download both, and concatenate the resulting DataFrames."
   ]
  },
  {
   "cell_type": "code",
   "execution_count": 12,
   "metadata": {},
   "outputs": [],
   "source": [
    "biden_url = 'https://raw.githubusercontent.com/fivethirtyeight/twitter-overlap/master/accounts/JoeBiden.txt'\n",
    "biden_df = pd.read_csv(biden_url, header=None, names=['account_id'])\n",
    "\n",
    "sanders_url_1 = 'https://raw.githubusercontent.com/fivethirtyeight/twitter-overlap/master/accounts/BernieSanders.txt'\n",
    "sanders_url_2 = 'https://raw.githubusercontent.com/fivethirtyeight/twitter-overlap/master/accounts/BernieSanders_2.txt'\n",
    "\n",
    "sanders_df = pd.concat(\n",
    "    [\n",
    "        pd.read_csv(sanders_url_1, header=None, names=['account_id']),\n",
    "        pd.read_csv(sanders_url_2, header=None, names=['account_id']),\n",
    "    ],\n",
    ")\n",
    "\n",
    "warren_url = 'https://raw.githubusercontent.com/fivethirtyeight/twitter-overlap/master/accounts/ewarren.txt'\n",
    "warren_df = pd.read_csv(warren_url, header=None, names=['account_id'])"
   ]
  },
  {
   "cell_type": "markdown",
   "metadata": {},
   "source": [
    "### Inspect the data\n",
    "\n",
    "We can get general information about our three dataframes by calling `.info()` on them. We can also preview the DataFrames with `.head()` to make sure they have the structure we expect:"
   ]
  },
  {
   "cell_type": "code",
   "execution_count": 13,
   "metadata": {},
   "outputs": [
    {
     "name": "stdout",
     "output_type": "stream",
     "text": [
      "<class 'pandas.core.frame.DataFrame'>\n",
      "RangeIndex: 3558333 entries, 0 to 3558332\n",
      "Data columns (total 1 columns):\n",
      "account_id    int64\n",
      "dtypes: int64(1)\n",
      "memory usage: 27.1 MB\n",
      "<class 'pandas.core.frame.DataFrame'>\n",
      "Int64Index: 9254423 entries, 0 to 4840405\n",
      "Data columns (total 1 columns):\n",
      "account_id    int64\n",
      "dtypes: int64(1)\n",
      "memory usage: 141.2 MB\n",
      "<class 'pandas.core.frame.DataFrame'>\n",
      "RangeIndex: 2486101 entries, 0 to 2486100\n",
      "Data columns (total 1 columns):\n",
      "account_id    int64\n",
      "dtypes: int64(1)\n",
      "memory usage: 19.0 MB\n"
     ]
    },
    {
     "data": {
      "text/html": [
       "<div>\n",
       "<style scoped>\n",
       "    .dataframe tbody tr th:only-of-type {\n",
       "        vertical-align: middle;\n",
       "    }\n",
       "\n",
       "    .dataframe tbody tr th {\n",
       "        vertical-align: top;\n",
       "    }\n",
       "\n",
       "    .dataframe thead th {\n",
       "        text-align: right;\n",
       "    }\n",
       "</style>\n",
       "<table border=\"1\" class=\"dataframe\">\n",
       "  <thead>\n",
       "    <tr style=\"text-align: right;\">\n",
       "      <th></th>\n",
       "      <th>account_id</th>\n",
       "    </tr>\n",
       "  </thead>\n",
       "  <tbody>\n",
       "    <tr>\n",
       "      <th>0</th>\n",
       "      <td>6713269072466804736</td>\n",
       "    </tr>\n",
       "    <tr>\n",
       "      <th>1</th>\n",
       "      <td>-2519946430450237437</td>\n",
       "    </tr>\n",
       "    <tr>\n",
       "      <th>2</th>\n",
       "      <td>-2587629838558822392</td>\n",
       "    </tr>\n",
       "    <tr>\n",
       "      <th>3</th>\n",
       "      <td>-6493119721573974008</td>\n",
       "    </tr>\n",
       "    <tr>\n",
       "      <th>4</th>\n",
       "      <td>-5668400639625920501</td>\n",
       "    </tr>\n",
       "  </tbody>\n",
       "</table>\n",
       "</div>"
      ],
      "text/plain": [
       "            account_id\n",
       "0  6713269072466804736\n",
       "1 -2519946430450237437\n",
       "2 -2587629838558822392\n",
       "3 -6493119721573974008\n",
       "4 -5668400639625920501"
      ]
     },
     "execution_count": 13,
     "metadata": {},
     "output_type": "execute_result"
    }
   ],
   "source": [
    "biden_df.info()\n",
    "\n",
    "sanders_df.info()\n",
    "\n",
    "warren_df.info()\n",
    "\n",
    "biden_df.head()"
   ]
  },
  {
   "cell_type": "markdown",
   "metadata": {},
   "source": [
    "## Build the visualization\n",
    "\n",
    "Now we're ready to build the Venn diagram of Twitter followers. We can pass the `account_id` data columns to the `venn3()` function."
   ]
  },
  {
   "cell_type": "code",
   "execution_count": 14,
   "metadata": {},
   "outputs": [
    {
     "data": {
      "image/png": "[encoded data removed]",
      "text/plain": [
       "<Figure size 432x288 with 1 Axes>"
      ]
     },
     "metadata": {},
     "output_type": "display_data"
    }
   ],
   "source": [
    "v = venn3(\n",
    "    [\n",
    "        set(biden_df.account_id),\n",
    "        set(sanders_df.account_id),\n",
    "        set(warren_df.account_id),\n",
    "    ],\n",
    ")\n"
   ]
  },
  {
   "cell_type": "markdown",
   "metadata": {},
   "source": [
    "From here, we can style our visualization by adding labels and a title."
   ]
  },
  {
   "cell_type": "code",
   "execution_count": 15,
   "metadata": {},
   "outputs": [
    {
     "data": {
      "image/png": "[encoded data removed]",
      "text/plain": [
       "<Figure size 432x288 with 1 Axes>"
      ]
     },
     "metadata": {},
     "output_type": "display_data"
    }
   ],
   "source": [
    "v = venn3(\n",
    "    [\n",
    "        set(biden_df.account_id),\n",
    "        set(sanders_df.account_id),\n",
    "        set(warren_df.account_id),\n",
    "    ],\n",
    ")\n",
    "\n",
    "# Our Venn object labels can be referenced by bitwise strings indicating the overlap\n",
    "# We'll label the portions of the circles that don't overlap.\n",
    "v.get_label_by_id('100').set_text('Biden')\n",
    "v.get_label_by_id('010').set_text('Sanders')\n",
    "v.get_label_by_id('001').set_text('Warren')\n",
    "\n",
    "plt.title(\"Twitter Follower Overlap of Joe Biden, Bernie Sanders, and Elizabeth Warren\")\n",
    "\n",
    "plt.show()"
   ]
  }
 ],
 "metadata": {
  "kernelspec": {
   "display_name": "poldata",
   "language": "python",
   "name": "poldata"
  },
  "language_info": {
   "codemirror_mode": {
    "name": "ipython",
    "version": 3
   },
   "file_extension": ".py",
   "mimetype": "text/x-python",
   "name": "python",
   "nbconvert_exporter": "python",
   "pygments_lexer": "ipython3",
   "version": "3.6.4"
  }
 },
 "nbformat": 4,
 "nbformat_minor": 2
}
